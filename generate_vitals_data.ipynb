{
 "cells": [
  {
   "cell_type": "markdown",
   "id": "vertical-turner",
   "metadata": {},
   "source": [
    "# Generate representative data of vital kits\n",
    "For senior kits and home essential kits"
   ]
  },
  {
   "cell_type": "code",
   "execution_count": 148,
   "id": "affecting-chrome",
   "metadata": {},
   "outputs": [],
   "source": [
    "# get autocomplete working\n",
    "%config Completer.use_jedi = False\n",
    "\n",
    "from abc import ABC, abstractproperty\n",
    "from enum import Enum\n",
    "\n",
    "import arrow\n",
    "import numpy as np"
   ]
  },
  {
   "cell_type": "code",
   "execution_count": 7,
   "id": "uniform-ready",
   "metadata": {},
   "outputs": [
    {
     "data": {
      "text/plain": [
       "arrow.arrow.Arrow"
      ]
     },
     "execution_count": 7,
     "metadata": {},
     "output_type": "execute_result"
    }
   ],
   "source": [
    "type(arrow.utcnow())"
   ]
  },
  {
   "cell_type": "code",
   "execution_count": 149,
   "id": "stylish-banks",
   "metadata": {},
   "outputs": [
    {
     "ename": "IndentationError",
     "evalue": "expected an indented block (<ipython-input-149-6de29a4a1dbd>, line 182)",
     "output_type": "error",
     "traceback": [
      "\u001b[0;36m  File \u001b[0;32m\"<ipython-input-149-6de29a4a1dbd>\"\u001b[0;36m, line \u001b[0;32m182\u001b[0m\n\u001b[0;31m    def use_kit(self):\u001b[0m\n\u001b[0m      ^\u001b[0m\n\u001b[0;31mIndentationError\u001b[0m\u001b[0;31m:\u001b[0m expected an indented block\n"
     ]
    }
   ],
   "source": [
    "\n",
    "class Temperature(Enum):\n",
    "    \"\"\"\n",
    "    Enum for representing if a temperature is too high, normal, or to low\n",
    "    \"\"\"\n",
    "    high = 0\n",
    "    normal = 1\n",
    "    low = 2\n",
    "\n",
    "TEMPERATURE_RANGES =\\\n",
    "    [(37.2, 42),     # high temperature range\n",
    "     (34.7, 37.2),   # normal temperature range\n",
    "     (32, 34.7)]     # low temperature range\n",
    "\"\"\"\n",
    "List of the ranges of temperature considered high, normal and low respectively\n",
    "\"\"\"\n",
    "\n",
    "TEMPERATURE_PROBS = [0.05, 0.9, 0.05]\n",
    "\"\"\"\n",
    "Default probabilities of temperature being high, normal and low respectively\n",
    "\"\"\"\n",
    "\n",
    "STANDARD_PULSE_OXIMETER_TIME = 5\n",
    "\"\"\"\n",
    "The default number of secodns that a user users the pulse oximeter for\n",
    "\"\"\"\n",
    "\n",
    "STANDARD_HEART_RANGE = (50, 90)\n",
    "\"\"\"\n",
    "The default heart rate for a user\n",
    "\"\"\"\n",
    "\n",
    "STANDARD_SPO2_RANGE = (60, 100)\n",
    "\"\"\"\n",
    "Defautl range of SpO2 for a user\n",
    "\"\"\"\n",
    "\n",
    "STANDARD_SPO2_HEALTH_FACTOR = 10\n",
    "\"\"\"\n",
    "The default helath weighting for SpO2, the highest this value is the more likely\n",
    "that SpO2 will be higher\n",
    "\"\"\"\n",
    "\n",
    "HEART_RATE_STD = 5\n",
    "\"\"\"\n",
    "The standard deviation when sampling heart rates\n",
    "\"\"\"\n",
    "\n",
    "SPO2_STD = 3\n",
    "\"\"\"\n",
    "The standard deviation when sampling SpO2\n",
    "\"\"\"\n",
    "\n",
    "STANDARD_SYSTOLIC_BP_RANGE = (60, 100)\n",
    "\"\"\"\n",
    "The standard range of systolic blood pressures\n",
    "\"\"\"\n",
    "\n",
    "STANDARD_DIASTOLIC_BP_RANGE = (110, 160)\n",
    "\"\"\"\n",
    "The standard range of diastolic blood pressures\n",
    "\"\"\"\n",
    "\n",
    "BLOOD_PRESSURE_STD = 5\n",
    "\"\"\"\n",
    "Standard deviation of blood pressure readings\n",
    "\"\"\"\n",
    "\n",
    "BOUGHT_TIME_RANGE = \n",
    "    \n",
    "def _use_thermometer(event_probs=None):\n",
    "    \"\"\"\n",
    "    Using a thermometer is modelled as a hierarchical distribution. Firt we decide if\n",
    "    the temperature is high, normal or low, and depending on that decision we decide\n",
    "    a respective temperature\n",
    "    :param event_probs: List of length 3 that details the probability of temperature\n",
    "    being [high, normal, low], if not given assumed probabilities are equal\n",
    "    \"\"\"\n",
    "    if not event_probs:\n",
    "        event_probs = TEMPERATURE_PROBS\n",
    "    if not len(event_probs) == 3:\n",
    "        raise ValueError(\"event_prpbs must be a list of probabilities for [high, medium, low]\")\n",
    "    # make sure event probabilities sum to one\n",
    "    event_probs /= np.sum(event_probs)\n",
    "    \n",
    "    # sample categorical distribution for type of temperature to get the temperature range\n",
    "    temperature_type = np.random.choice(Temperature, p=event_probs)\n",
    "    temperature_range = TEMPERATURE_RANGES[temperature_type.value]\n",
    "    \n",
    "    # sample a temperate for the type of temperature\n",
    "    return np.random.uniform(*temperature_range)\n",
    "\n",
    "def _noisy_uniform_sample(base_range, std, num_samples):\n",
    "    \"\"\"\n",
    "    Provides specified number of noisy readings of a value sampled from base range,\n",
    "    :param base_range: 2-tuple defining range base reading is sampled from\n",
    "    :param std: the standard deviation of the noise added to reading\n",
    "    :param num_samples: the number of samples taken\n",
    "    \"\"\"\n",
    "    base_value = np.random.uniform(*base_range)\n",
    "    \n",
    "    return np.random.normal(base_value, std, num_samples)\n",
    "    \n",
    "\n",
    "def _use_pulse_oximeter(*,\n",
    "                        average_use_time=None,\n",
    "                        base_heart_rate_range=None,\n",
    "                        base_spo2_range=None,\n",
    "                        spo2_health_factor=None):\n",
    "    \"\"\"\n",
    "    Using a thermometer is modelled as a hierarchical distribution. First we decide how\n",
    "    long a user uses the device for, then we decide what the base heart rate and SpO2 readings\n",
    "    are going to be, then we generate noisy readings of these base values\n",
    "    :param average_use_time: the average number of seconds that a user uses the pulse oximeter\n",
    "    :param base_heart_range: tuple of highest and lowest heart rate for user\n",
    "    :param base_spo2_range: tuple of highest and lowest SpO2 for user\n",
    "    :param spo2_health_factor: higher this number is the more likely they are to have a health SpO2 reading\n",
    "    :returns: tuple of list of heart rate and SpO2 readings\n",
    "    \"\"\"\n",
    "    if not average_use_time:\n",
    "        average_use_time = STANDARD_PULSE_OXIMETER_TIME\n",
    "    if not base_heart_rate_range:\n",
    "        base_heart_rate_range = STANDARD_HEART_RANGE\n",
    "    if not base_spo2_range:\n",
    "        base_spo2_range = STANDARD_SPO2_RANGE\n",
    "    if not spo2_health_factor:\n",
    "        spo2_health_factor = STANDARD_SPO2_HEALTH_FACTOR\n",
    "    \n",
    "    # get number of seconds device is used for\n",
    "    num_secs = np.random.geometric(1/average_use_time)\n",
    "    \n",
    "    # get base specific oxygen level\n",
    "    spo2_low, spo2_high = base_spo2_range\n",
    "    spo2_weight = np.random.uniform() ** (1 / spo2_health_factor)\n",
    "    base_spo2 = (spo2_weight * spo2_high - spo2_low) + spo2_low\n",
    "    \n",
    "    heart_rates = _noisy_uniform_sample(base_heart_rate_range, HEART_RATE_STD, num_secs)\n",
    "    spo2s = np.random.normal(base_spo2, SPO2_STD, num_secs)\n",
    "    # make sure we don't report and SpO2 value of over 100\n",
    "    spo2s = np.minimum(spo2s, 100)\n",
    "    \n",
    "    print(base_spo2_range)\n",
    "    print(spo2_weight)\n",
    "    print(base_spo2)\n",
    "    \n",
    "    return heart_rates, spo2s\n",
    "\n",
    "def _use_blood_pressure_monitor(*, systolic_bp_range=None, diastolic_bp_range=None, heart_rate_range=None):\n",
    "    \"\"\"\n",
    "    Using a blood pressure monitor is modelled as taking a noisy uniform sample of systolic, diastolic and heart rate.\n",
    "    :param systolic_bp_range: range that systolic blood pressure will be sampled from\n",
    "    :param diastolic_bo_range: range that diastolic blood pressure will be sampled from\n",
    "    :pram heart_rate_range: range that heart rate will be sampled from\n",
    "    :returns: tuple of (systolic blood pressure, diastolic blood pressure, heart rate)\n",
    "    \"\"\"\n",
    "    if not systolic_bp_range:\n",
    "        systolic_bp_range = STANDARD_SYSTOLIC_BP_RANGE\n",
    "    if not diastolic_bp_range:\n",
    "        diastolic_bp_range = STANDARD_DIASTOLIC_BP_RANGE\n",
    "    if not heart_rate_range:\n",
    "        heart_rate_range = STANDARD_HEART_RANGE\n",
    "        \n",
    "    systolic_bp = _noisy_uniform_sample(systolic_bp_range, BLOOD_PRESSURE_STD, 1)\n",
    "    diastolic_bp = _noisy_uniform_sample(diastolic_bp_range, BLOOD_PRESSURE_STD, 1)\n",
    "    heart_rate = _noisy_uniform_sample(heart_rate_range, HEART_RATE_STD, 1)\n",
    "    \n",
    "    return systolic_bp[0], diastolic_bp[0], heart_rate[0]\n",
    "\n",
    "class VitalKitUser(ABC):\n",
    "    \"\"\"\n",
    "    Abstract base class for all users of a kit.\n",
    "    \n",
    "    Presents the `use_kit` method, which randomly selects a kit to use and \"uses\" it\n",
    "    \"\"\"\n",
    "    @abstractproperty\n",
    "    def _use_kit_list(self):\n",
    "        \"\"\"\n",
    "        List of use functions that are used when a kit is selected\n",
    "        \"\"\"\n",
    "        pass\n",
    "    \n",
    "    @abstractproperty\n",
    "    def _mean_time_between_uses(self):\n",
    "        \"\"\"\n",
    "        The average amount of time that passes between each kit usage in hours\n",
    "        \"\"\"\n",
    "        pass\n",
    "    \n",
    "    @abstractproperty\n",
    "    def _bought_time(self):\n",
    "        \"\"\"\n",
    "        The time when the user bought the kit, it will be from this time that they use\n",
    "        the kit\n",
    "        \"\"\"\n",
    "        pass\n",
    "    \n",
    "    def use_kit(self):\n",
    "        \"\"\"\n",
    "        This will select a kit, and use it at a random time after the last use of a kit.\n",
    "        When the kit is used it returns a set of equal length (possibly singular) time\n",
    "        series representing the observations from the kit. Time series are of the format\n",
    "        Tuple[arrow.Arrow, float]\n",
    "        \"\"\"\n",
    "        \n",
    "\n",
    "class SeniorKitUser(ABC):\n",
    "    \"\"\"\n",
    "    The user of a senior kit. Parameterized by how often they use a kit on average\n",
    "    \"\"\"\n",
    "    def __init__(self, mean_time_between_uses, bought_time=None):\n",
    "        self._mean_time_between_uses = mean_time_between_uses\n",
    "        self._use_kit_list = [_use_blood_pressure_monitor, _use_pulse_oximeter, _use_thermometer]\n",
    "    "
   ]
  },
  {
   "cell_type": "code",
   "execution_count": 142,
   "id": "direct-benefit",
   "metadata": {},
   "outputs": [
    {
     "data": {
      "text/plain": [
       "35.67159816040756"
      ]
     },
     "execution_count": 142,
     "metadata": {},
     "output_type": "execute_result"
    }
   ],
   "source": [
    "_use_thermometer()"
   ]
  },
  {
   "cell_type": "code",
   "execution_count": 143,
   "id": "raised-cause",
   "metadata": {},
   "outputs": [
    {
     "data": {
      "text/plain": [
       "(71.64883133030042, 167.33575238553883, 53.83002225117813)"
      ]
     },
     "execution_count": 143,
     "metadata": {},
     "output_type": "execute_result"
    }
   ],
   "source": [
    "_use_blood_pressure_monitor()"
   ]
  },
  {
   "cell_type": "code",
   "execution_count": 147,
   "id": "vulnerable-giving",
   "metadata": {},
   "outputs": [
    {
     "name": "stdout",
     "output_type": "stream",
     "text": [
      "(60, 100)\n",
      "0.9699913458650052\n",
      "96.99913458650052\n"
     ]
    },
    {
     "data": {
      "text/plain": [
       "(array([54.49027712]), array([97.1225677]))"
      ]
     },
     "execution_count": 147,
     "metadata": {},
     "output_type": "execute_result"
    }
   ],
   "source": [
    "_use_pulse_oximeter()"
   ]
  },
  {
   "cell_type": "code",
   "execution_count": null,
   "id": "technical-symbol",
   "metadata": {},
   "outputs": [],
   "source": []
  }
 ],
 "metadata": {
  "kernelspec": {
   "display_name": "Python 3",
   "language": "python",
   "name": "python3"
  },
  "language_info": {
   "codemirror_mode": {
    "name": "ipython",
    "version": 3
   },
   "file_extension": ".py",
   "mimetype": "text/x-python",
   "name": "python",
   "nbconvert_exporter": "python",
   "pygments_lexer": "ipython3",
   "version": "3.6.9"
  }
 },
 "nbformat": 4,
 "nbformat_minor": 5
}
